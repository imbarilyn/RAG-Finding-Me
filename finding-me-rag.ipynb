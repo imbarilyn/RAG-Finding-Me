{
 "cells": [
  {
   "cell_type": "code",
   "execution_count": 2,
   "id": "initial_id",
   "metadata": {
    "collapsed": true,
    "ExecuteTime": {
     "end_time": "2025-05-06T06:56:08.984130Z",
     "start_time": "2025-05-06T06:56:07.241112Z"
    }
   },
   "outputs": [],
   "source": [
    "\n",
    "import chromadb\n",
    "chroma_client = chromadb.Client()"
   ]
  },
  {
   "cell_type": "code",
   "outputs": [
    {
     "ename": "InternalError",
     "evalue": "Collection [finding-me-rag-01] already exists",
     "output_type": "error",
     "traceback": [
      "\u001B[0;31m---------------------------------------------------------------------------\u001B[0m",
      "\u001B[0;31mInternalError\u001B[0m                             Traceback (most recent call last)",
      "Cell \u001B[0;32mIn[9], line 1\u001B[0m\n\u001B[0;32m----> 1\u001B[0m collection \u001B[38;5;241m=\u001B[39m \u001B[43mchroma_client\u001B[49m\u001B[38;5;241;43m.\u001B[39;49m\u001B[43mcreate_collection\u001B[49m\u001B[43m(\u001B[49m\u001B[43mname\u001B[49m\u001B[38;5;241;43m=\u001B[39;49m\u001B[38;5;124;43m\"\u001B[39;49m\u001B[38;5;124;43mfinding-me-rag-01\u001B[39;49m\u001B[38;5;124;43m\"\u001B[39;49m\u001B[43m)\u001B[49m\n",
      "File \u001B[0;32m/usr/local/lib/python3.10/dist-packages/chromadb/api/client.py:156\u001B[0m, in \u001B[0;36mClient.create_collection\u001B[0;34m(self, name, configuration, metadata, embedding_function, data_loader, get_or_create)\u001B[0m\n\u001B[1;32m    154\u001B[0m     \u001B[38;5;28;01mif\u001B[39;00m embedding_function \u001B[38;5;129;01mis\u001B[39;00m \u001B[38;5;129;01mnot\u001B[39;00m \u001B[38;5;28;01mNone\u001B[39;00m:\n\u001B[1;32m    155\u001B[0m         configuration[\u001B[38;5;124m\"\u001B[39m\u001B[38;5;124membedding_function\u001B[39m\u001B[38;5;124m\"\u001B[39m] \u001B[38;5;241m=\u001B[39m embedding_function\n\u001B[0;32m--> 156\u001B[0m model \u001B[38;5;241m=\u001B[39m \u001B[38;5;28;43mself\u001B[39;49m\u001B[38;5;241;43m.\u001B[39;49m\u001B[43m_server\u001B[49m\u001B[38;5;241;43m.\u001B[39;49m\u001B[43mcreate_collection\u001B[49m\u001B[43m(\u001B[49m\n\u001B[1;32m    157\u001B[0m \u001B[43m    \u001B[49m\u001B[43mname\u001B[49m\u001B[38;5;241;43m=\u001B[39;49m\u001B[43mname\u001B[49m\u001B[43m,\u001B[49m\n\u001B[1;32m    158\u001B[0m \u001B[43m    \u001B[49m\u001B[43mmetadata\u001B[49m\u001B[38;5;241;43m=\u001B[39;49m\u001B[43mmetadata\u001B[49m\u001B[43m,\u001B[49m\n\u001B[1;32m    159\u001B[0m \u001B[43m    \u001B[49m\u001B[43mtenant\u001B[49m\u001B[38;5;241;43m=\u001B[39;49m\u001B[38;5;28;43mself\u001B[39;49m\u001B[38;5;241;43m.\u001B[39;49m\u001B[43mtenant\u001B[49m\u001B[43m,\u001B[49m\n\u001B[1;32m    160\u001B[0m \u001B[43m    \u001B[49m\u001B[43mdatabase\u001B[49m\u001B[38;5;241;43m=\u001B[39;49m\u001B[38;5;28;43mself\u001B[39;49m\u001B[38;5;241;43m.\u001B[39;49m\u001B[43mdatabase\u001B[49m\u001B[43m,\u001B[49m\n\u001B[1;32m    161\u001B[0m \u001B[43m    \u001B[49m\u001B[43mget_or_create\u001B[49m\u001B[38;5;241;43m=\u001B[39;49m\u001B[43mget_or_create\u001B[49m\u001B[43m,\u001B[49m\n\u001B[1;32m    162\u001B[0m \u001B[43m    \u001B[49m\u001B[43mconfiguration\u001B[49m\u001B[38;5;241;43m=\u001B[39;49m\u001B[43mconfiguration\u001B[49m\u001B[43m,\u001B[49m\n\u001B[1;32m    163\u001B[0m \u001B[43m\u001B[49m\u001B[43m)\u001B[49m\n\u001B[1;32m    164\u001B[0m \u001B[38;5;28;01mreturn\u001B[39;00m Collection(\n\u001B[1;32m    165\u001B[0m     client\u001B[38;5;241m=\u001B[39m\u001B[38;5;28mself\u001B[39m\u001B[38;5;241m.\u001B[39m_server,\n\u001B[1;32m    166\u001B[0m     model\u001B[38;5;241m=\u001B[39mmodel,\n\u001B[1;32m    167\u001B[0m     embedding_function\u001B[38;5;241m=\u001B[39membedding_function,\n\u001B[1;32m    168\u001B[0m     data_loader\u001B[38;5;241m=\u001B[39mdata_loader,\n\u001B[1;32m    169\u001B[0m )\n",
      "File \u001B[0;32m/usr/local/lib/python3.10/dist-packages/chromadb/api/rust.py:230\u001B[0m, in \u001B[0;36mRustBindingsAPI.create_collection\u001B[0;34m(self, name, configuration, metadata, get_or_create, tenant, database)\u001B[0m\n\u001B[1;32m    227\u001B[0m \u001B[38;5;28;01melse\u001B[39;00m:\n\u001B[1;32m    228\u001B[0m     configuration_json_str \u001B[38;5;241m=\u001B[39m \u001B[38;5;28;01mNone\u001B[39;00m\n\u001B[0;32m--> 230\u001B[0m collection \u001B[38;5;241m=\u001B[39m \u001B[38;5;28;43mself\u001B[39;49m\u001B[38;5;241;43m.\u001B[39;49m\u001B[43mbindings\u001B[49m\u001B[38;5;241;43m.\u001B[39;49m\u001B[43mcreate_collection\u001B[49m\u001B[43m(\u001B[49m\n\u001B[1;32m    231\u001B[0m \u001B[43m    \u001B[49m\u001B[43mname\u001B[49m\u001B[43m,\u001B[49m\u001B[43m \u001B[49m\u001B[43mconfiguration_json_str\u001B[49m\u001B[43m,\u001B[49m\u001B[43m \u001B[49m\u001B[43mmetadata\u001B[49m\u001B[43m,\u001B[49m\u001B[43m \u001B[49m\u001B[43mget_or_create\u001B[49m\u001B[43m,\u001B[49m\u001B[43m \u001B[49m\u001B[43mtenant\u001B[49m\u001B[43m,\u001B[49m\u001B[43m \u001B[49m\u001B[43mdatabase\u001B[49m\n\u001B[1;32m    232\u001B[0m \u001B[43m\u001B[49m\u001B[43m)\u001B[49m\n\u001B[1;32m    233\u001B[0m collection_model \u001B[38;5;241m=\u001B[39m CollectionModel(\n\u001B[1;32m    234\u001B[0m     \u001B[38;5;28mid\u001B[39m\u001B[38;5;241m=\u001B[39mcollection\u001B[38;5;241m.\u001B[39mid,\n\u001B[1;32m    235\u001B[0m     name\u001B[38;5;241m=\u001B[39mcollection\u001B[38;5;241m.\u001B[39mname,\n\u001B[0;32m   (...)\u001B[0m\n\u001B[1;32m    242\u001B[0m     database\u001B[38;5;241m=\u001B[39mcollection\u001B[38;5;241m.\u001B[39mdatabase,\n\u001B[1;32m    243\u001B[0m )\n\u001B[1;32m    244\u001B[0m \u001B[38;5;28;01mreturn\u001B[39;00m collection_model\n",
      "\u001B[0;31mInternalError\u001B[0m: Collection [finding-me-rag-01] already exists"
     ]
    }
   ],
   "source": [
    "collection = chroma_client.create_collection(name=\"finding-me-rag-01\")"
   ],
   "metadata": {
    "collapsed": false,
    "ExecuteTime": {
     "end_time": "2025-05-06T07:08:41.205456Z",
     "start_time": "2025-05-06T07:08:40.951008Z"
    }
   },
   "id": "1839735e506a212",
   "execution_count": 9
  },
  {
   "cell_type": "code",
   "outputs": [],
   "source": [
    "collection.add(\n",
    "    documents=[\n",
    "        \"This is Viola Davis memoir\",\n",
    "        \"Viola Davis was born and raised in South Carolina\",\n",
    "    ],\n",
    "    ids=[\"id1\", \"id2\"]\n",
    ")"
   ],
   "metadata": {
    "collapsed": false,
    "ExecuteTime": {
     "end_time": "2025-05-06T07:08:48.664831Z",
     "start_time": "2025-05-06T07:08:48.125217Z"
    }
   },
   "id": "4da3cc0adc4b4606",
   "execution_count": 10
  },
  {
   "cell_type": "code",
   "outputs": [
    {
     "name": "stdout",
     "output_type": "stream",
     "text": [
      "{'ids': [['id1', 'id2']], 'embeddings': None, 'documents': [['This is Viola Davis memoir', 'Viola Davis was born and raised in South Carolina']], 'uris': None, 'included': ['metadatas', 'documents', 'distances'], 'data': None, 'metadatas': [[None, None]], 'distances': [[1.2902677059173584, 1.7714648246765137]]}\n"
     ]
    }
   ],
   "source": [
    "results = collection.query(\n",
    "    query_texts=[\"Who is the author of the book?\"],\n",
    "    n_results=2\n",
    ")\n",
    "print(results)"
   ],
   "metadata": {
    "collapsed": false,
    "ExecuteTime": {
     "end_time": "2025-05-06T07:08:51.427578Z",
     "start_time": "2025-05-06T07:08:50.986290Z"
    }
   },
   "id": "fe173e9b85edb217",
   "execution_count": 11
  },
  {
   "cell_type": "code",
   "outputs": [
    {
     "data": {
      "text/plain": "True"
     },
     "execution_count": 16,
     "metadata": {},
     "output_type": "execute_result"
    }
   ],
   "source": [
    "import os\n",
    "from dotenv import load_dotenv\n",
    "\n",
    "load_dotenv()"
   ],
   "metadata": {
    "collapsed": false,
    "ExecuteTime": {
     "end_time": "2025-05-06T08:46:17.755329Z",
     "start_time": "2025-05-06T08:46:17.734862Z"
    }
   },
   "id": "7e39c3782b51f48",
   "execution_count": 16
  },
  {
   "cell_type": "code",
   "outputs": [],
   "source": [
    "from langchain_community.document_loaders import PyPDFLoader\n",
    "from langchain_text_splitters import RecursiveCharacterTextSplitter\n",
    "from langchain_openai import ChatOpenAI\n",
    "\n"
   ],
   "metadata": {
    "collapsed": false,
    "ExecuteTime": {
     "end_time": "2025-05-06T08:32:29.806120Z",
     "start_time": "2025-05-06T08:32:27.120762Z"
    }
   },
   "id": "bb6a8fc9f8a6e7df",
   "execution_count": 4
  },
  {
   "cell_type": "code",
   "outputs": [],
   "source": [
    "from pypdf import PdfReader, PdfWriter\n",
    "input_path = \"./data_source/FindingMeMemoir.pdf\"\n",
    "output_path = \"./data_source/FindingMeMemoirTrimmed.pdf\"\n",
    "\n",
    "reader = PdfReader(input_path)\n",
    "writer = PdfWriter()\n",
    "last_page_to_keep = 250\n",
    "for i in range(len(reader.pages)):\n",
    "    if i <= last_page_to_keep:\n",
    "        writer.add_page(reader.pages[i])\n",
    "\n",
    "with open(output_path, 'wb') as f:\n",
    "    writer.write(f)\n",
    "    \n"
   ],
   "metadata": {
    "collapsed": false,
    "ExecuteTime": {
     "end_time": "2025-05-06T08:21:25.646057Z",
     "start_time": "2025-05-06T08:21:25.113111Z"
    }
   },
   "id": "69a1e0b7cd0cf69c",
   "execution_count": 1
  },
  {
   "cell_type": "code",
   "outputs": [],
   "source": [
    "from pypdf import PdfReader, PdfWriter\n",
    "\n",
    "input_path = \"./data_source/FindingMeMemoirTrimmed.pdf\"\n",
    "output_path = \"./data_source/FindingMeMemoirTrimmed1.pdf\"\n",
    "reader = PdfReader(input_path)\n",
    "writer = PdfWriter()\n",
    "removed_pages = [0, 1, 2, 4, 5, 250]\n",
    "for i in range(len(reader.pages)):\n",
    "    if i not in removed_pages:\n",
    "        writer.add_page(reader.pages[i])\n",
    "\n",
    "with open(output_path, 'wb') as f:\n",
    "    writer.write(f)\n",
    "\n"
   ],
   "metadata": {
    "collapsed": false,
    "ExecuteTime": {
     "end_time": "2025-05-06T08:23:55.310866Z",
     "start_time": "2025-05-06T08:23:54.693988Z"
    }
   },
   "id": "d78669e0d062057f",
   "execution_count": 1
  },
  {
   "cell_type": "code",
   "outputs": [
    {
     "name": "stdout",
     "output_type": "stream",
     "text": [
      "245\n"
     ]
    }
   ],
   "source": [
    "loader = PyPDFLoader(\"./data_source/FindingMeMemoirTrimmed1.pdf\")\n",
    "# loader = PyPDFLoader(\"./data_source/Linah-MuhonjaImbariCV.pdf\")\n",
    "pages = loader.load()\n",
    "print(len(pages))"
   ],
   "metadata": {
    "collapsed": false,
    "ExecuteTime": {
     "end_time": "2025-05-06T15:14:43.918164Z",
     "start_time": "2025-05-06T15:14:35.042514Z"
    }
   },
   "id": "f28a179390363154",
   "execution_count": 76
  },
  {
   "cell_type": "code",
   "outputs": [
    {
     "name": "stdout",
     "output_type": "stream",
     "text": [
      "530\n"
     ]
    }
   ],
   "source": [
    "text_splitter = RecursiveCharacterTextSplitter(\n",
    "    chunk_size=1000,\n",
    "    chunk_overlap=0,\n",
    "    add_start_index=True\n",
    ")\n",
    "\n",
    "chunks = text_splitter.split_documents(pages)\n",
    "# print(f\"Number of pages: {len(pages)} with {len(chunks)} chunks\")\n",
    "print(len(chunks))"
   ],
   "metadata": {
    "collapsed": false,
    "ExecuteTime": {
     "end_time": "2025-05-06T15:30:07.156761Z",
     "start_time": "2025-05-06T15:30:07.108038Z"
    }
   },
   "id": "4485bf48998f4684",
   "execution_count": 84
  },
  {
   "cell_type": "code",
   "outputs": [],
   "source": [
    "llm = ChatOpenAI()"
   ],
   "metadata": {
    "collapsed": false,
    "ExecuteTime": {
     "end_time": "2025-05-06T15:06:15.823839Z",
     "start_time": "2025-05-06T15:06:15.593669Z"
    }
   },
   "id": "5e9bb7284059dbab",
   "execution_count": 50
  },
  {
   "cell_type": "code",
   "outputs": [],
   "source": [
    "from langchain.chains import load_summarize_chain\n",
    "summarization_chain = load_summarize_chain(llm=llm, chain_type=\"map_reduce\")"
   ],
   "metadata": {
    "collapsed": false,
    "ExecuteTime": {
     "end_time": "2025-05-06T15:30:14.352566Z",
     "start_time": "2025-05-06T15:30:14.347033Z"
    }
   },
   "id": "4f8095656b1ab1ae",
   "execution_count": 85
  },
  {
   "cell_type": "code",
   "outputs": [],
   "source": [
    "result = summarization_chain.invoke(chunks)"
   ],
   "metadata": {
    "collapsed": false,
    "ExecuteTime": {
     "end_time": "2025-05-06T15:43:18.495123Z",
     "start_time": "2025-05-06T15:30:18.966146Z"
    }
   },
   "id": "581bdd1507808223",
   "execution_count": 86
  },
  {
   "cell_type": "code",
   "outputs": [
    {
     "data": {
      "text/plain": "\"The book follows the narrator's childhood experiences dealing with trauma, bullying, and discrimination, shaped by their family dynamics and struggles. It explores themes of resilience, self-discovery, and coping with trauma through poverty, abuse, and hardship. The narrator finds solace in acting, pursuing their dreams, navigating relationships, and ultimately finding joy and self-acceptance despite challenges in the industry and personal life. The story culminates in the speaker's journey of self-transformation, self-acceptance, and defiance of societal expectations, inspired by role models like Viola Davis and Cicely Tyson. Through vulnerability and inner strength, the narrator embraces their past, finds success, and highlights the importance of representation and self-love for Black women.\""
     },
     "execution_count": 87,
     "metadata": {},
     "output_type": "execute_result"
    }
   ],
   "source": [
    "result['output_text']"
   ],
   "metadata": {
    "collapsed": false,
    "ExecuteTime": {
     "end_time": "2025-05-06T15:48:07.079083Z",
     "start_time": "2025-05-06T15:48:07.072232Z"
    }
   },
   "id": "cceaf363280513f3",
   "execution_count": 87
  },
  {
   "cell_type": "code",
   "outputs": [],
   "source": [],
   "metadata": {
    "collapsed": false
   },
   "id": "477341f18313df94"
  }
 ],
 "metadata": {
  "kernelspec": {
   "display_name": "Python 3",
   "language": "python",
   "name": "python3"
  },
  "language_info": {
   "codemirror_mode": {
    "name": "ipython",
    "version": 2
   },
   "file_extension": ".py",
   "mimetype": "text/x-python",
   "name": "python",
   "nbconvert_exporter": "python",
   "pygments_lexer": "ipython2",
   "version": "2.7.6"
  }
 },
 "nbformat": 4,
 "nbformat_minor": 5
}
